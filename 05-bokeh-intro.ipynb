{
 "metadata": {
  "name": "",
  "signature": "sha256:c2c9737f56ff7cb9a2eafbe27421d08e2c68ee25d8c66f130c5426d33bb14dbe"
 },
 "nbformat": 3,
 "nbformat_minor": 0,
 "worksheets": [
  {
   "cells": [
    {
     "cell_type": "heading",
     "level": 1,
     "metadata": {
      "internals": {
       "slide_helper": "subslide_end",
       "slide_type": "subslide"
      },
      "slide_helper": "slide_end",
      "slideshow": {
       "slide_type": "slide"
      }
     },
     "source": [
      "Introduction to Bokeh"
     ]
    },
    {
     "cell_type": "markdown",
     "metadata": {
      "internals": {
       "slide_helper": "subslide_end",
       "slide_type": "subslide"
      },
      "slide_helper": "slide_end",
      "slideshow": {
       "slide_type": "slide"
      }
     },
     "source": [
      "## Agenda\n",
      "\n",
      "- Make a few plots\n",
      "- Play with vectorized attributes\n",
      "- See how to use toolbars\n",
      "- Linked Brushing\n",
      "- Interactivity\n",
      "- Show example of static plot to html"
     ]
    },
    {
     "cell_type": "markdown",
     "metadata": {
      "internals": {
       "slide_type": "subslide"
      },
      "slideshow": {
       "slide_type": "slide"
      }
     },
     "source": [
      "## Setup\n",
      "\n",
      "First let's import things and make a few arrays"
     ]
    },
    {
     "cell_type": "code",
     "collapsed": false,
     "input": [
      "import numpy as np\n",
      "from bokeh.plotting import *\n",
      "N = 102\n",
      "lin_arr = np.linspace(0, 4*np.pi, N)\n",
      "sin_arr = np.sin(lin_arr)\n",
      "cos_arr = np.cos(lin_arr)"
     ],
     "language": "python",
     "metadata": {
      "internals": {
       "frag_number": 3,
       "slide_helper": "subslide_end"
      },
      "slide_helper": "slide_end",
      "slideshow": {
       "slide_type": "fragment"
      }
     },
     "outputs": []
    },
    {
     "cell_type": "markdown",
     "metadata": {
      "internals": {
       "frag_helper": "fragment_end",
       "frag_number": 3,
       "slide_type": "subslide"
      },
      "slideshow": {
       "slide_type": "slide"
      }
     },
     "source": [
      "## Output\n",
      "\n",
      "Bokeh can output to html, a notebook, or just fragments for embedding in a web application. \n",
      "\n",
      "To start playing, we'll use the notebook. Later we will see the other types of output."
     ]
    },
    {
     "cell_type": "code",
     "collapsed": false,
     "input": [
      "output_notebook()"
     ],
     "language": "python",
     "metadata": {
      "internals": {
       "frag_helper": "fragment_end",
       "frag_number": 5,
       "slide_helper": "subslide_end"
      },
      "slide_helper": "slide_end",
      "slideshow": {
       "slide_type": "fragment"
      }
     },
     "outputs": []
    },
    {
     "cell_type": "markdown",
     "metadata": {
      "internals": {
       "frag_helper": "fragment_end",
       "frag_number": 5,
       "slide_helper": "subslide_end",
       "slide_type": "subslide"
      },
      "slide_helper": "subslide_end",
      "slideshow": {
       "slide_type": "slide"
      }
     },
     "source": [
      "# Scatter Plots\n",
      "\n",
      "To begin with let's make a scatter plot."
     ]
    },
    {
     "cell_type": "code",
     "collapsed": false,
     "input": [
      "p1 = figure()\n",
      "p1.scatter(lin_arr, sin_arr, color=\"#FF00FF\")\n",
      "p1.scatter(lin_arr, cos_arr, color=\"green\")\n",
      "show(p1)"
     ],
     "language": "python",
     "metadata": {
      "internals": {
       "frag_helper": "fragment_end",
       "frag_number": 5,
       "slide_helper": "subslide_end",
       "slide_type": "subslide"
      },
      "slide_helper": "subslide_end",
      "slideshow": {
       "slide_type": "subslide"
      }
     },
     "outputs": []
    },
    {
     "cell_type": "markdown",
     "metadata": {},
     "source": [
      "## Exercise\n",
      "\n",
      "Play with plotting arrays, try editting\n",
      "- color,\n",
      "- markers,\n",
      "- alpha (value between 0-1), and \n",
      "- size (int of pixels)"
     ]
    },
    {
     "cell_type": "code",
     "collapsed": false,
     "input": [
      "p2 = figure()\n",
      "p2.scatter(..., color=\"red\")\n",
      "show(p2)"
     ],
     "language": "python",
     "metadata": {
      "internals": {
       "frag_helper": "fragment_end",
       "frag_number": 5,
       "slide_helper": "subslide_end",
       "slide_type": "subslide"
      },
      "slide_helper": "subslide_end",
      "slideshow": {
       "slide_type": "subslide"
      }
     },
     "outputs": []
    },
    {
     "cell_type": "code",
     "collapsed": false,
     "input": [
      "p3 = figure()\n",
      "p3.scatter(... , marker=\"square\", color=\"green\")\n",
      "show(p3)"
     ],
     "language": "python",
     "metadata": {
      "internals": {
       "frag_helper": "fragment_end",
       "frag_number": 5,
       "slide_helper": "subslide_end",
       "slide_type": "subslide"
      },
      "slide_helper": "subslide_end",
      "slideshow": {
       "slide_type": "subslide"
      }
     },
     "outputs": []
    },
    {
     "cell_type": "markdown",
     "metadata": {},
     "source": [
      "## See also\n",
      "\n",
      "For some fun with different glyphs see the glyphs notebook."
     ]
    },
    {
     "cell_type": "markdown",
     "metadata": {},
     "source": [
      "## Everything is vectorized\n",
      "\n",
      "While we have only been passing vectors for locations, we can do so for almost any parameter.\n",
      "\n",
      "Let's use the `cos_arr` to size the circles"
     ]
    },
    {
     "cell_type": "code",
     "collapsed": false,
     "input": [
      "p4 = figure()\n",
      "p4.scatter(x=lin_arr, y=sin_arr, size=cos_arr**2*10)\n",
      "show(p4)"
     ],
     "language": "python",
     "metadata": {},
     "outputs": []
    },
    {
     "cell_type": "code",
     "collapsed": false,
     "input": [
      "from bokeh.palettes import brewer"
     ],
     "language": "python",
     "metadata": {},
     "outputs": []
    },
    {
     "cell_type": "code",
     "collapsed": false,
     "input": [
      "#brewer.keys()\n",
      "brewer[\"\"].keys()"
     ],
     "language": "python",
     "metadata": {},
     "outputs": []
    },
    {
     "cell_type": "code",
     "collapsed": false,
     "input": [
      "#palette = brewer[\"Spectral\"][10]\n",
      "palette = brewer[\"Greys\"][9] + list(reversed(brewer[\"Greys\"][9]))\n",
      "colors = palette * (len(lin_arr) / len(palette)) + palette[0:len(lin_arr) % len(palette)]"
     ],
     "language": "python",
     "metadata": {},
     "outputs": []
    },
    {
     "cell_type": "code",
     "collapsed": true,
     "input": [
      "p5 = figure()\n",
      "p5.scatter(x=lin_arr, y=sin_arr, size=cos_arr**2*10 + 5, fill_color=colors)\n",
      "show(p5)"
     ],
     "language": "python",
     "metadata": {},
     "outputs": []
    },
    {
     "cell_type": "code",
     "collapsed": false,
     "input": [
      "p5 = figure()\n",
      "p5.scatter(x=lin_arr, y=sin_arr, size=cos_arr**2*10, fill_color=colors, fill_alpha=lin_arr/(4*np.pi))\n",
      "show(p5)"
     ],
     "language": "python",
     "metadata": {},
     "outputs": []
    },
    {
     "cell_type": "markdown",
     "metadata": {},
     "source": [
      "## Tools\n",
      "\n",
      "If you notice the bar at the top of the you see several places to interact with the plot.\n",
      "\n",
      "These are tools and there a many different tools built into the Bokeh.\n",
      "\n",
      "Let's take a look at HoverTools"
     ]
    },
    {
     "cell_type": "code",
     "collapsed": false,
     "input": [
      "source = ColumnDataSource(\n",
      "    data=dict(\n",
      "        x=lin_arr,\n",
      "        y=sin_arr,\n",
      "        size=cos_arr**2*10 + 5,\n",
      "        colors=colors\n",
      "    )\n",
      ")"
     ],
     "language": "python",
     "metadata": {},
     "outputs": []
    },
    {
     "cell_type": "code",
     "collapsed": false,
     "input": [
      "from bokeh.models import HoverTool\n",
      "from collections import OrderedDict\n",
      "\n",
      "TOOLS=\"crosshair,pan,wheel_zoom,box_zoom,reset,hover,previewsave\"\n",
      "p6 = figure(title=\"Hoverful Scatter\", tools=TOOLS)\n",
      "p6.circle(x=\"x\", y=\"y\", size=\"size\", source=source,\n",
      "    fill_color=\"colors\", fill_alpha=0.6, line_color=None)\n",
      "\n",
      "hover = p6.select(dict(type=HoverTool))\n",
      "hover.tooltips = OrderedDict([\n",
      "    (\"index\", \"$index\"),\n",
      "    (\"(x,y)\", \"($x, $y)\"),\n",
      "    (\"size\", \"@size\"),\n",
      "    (\"fill color\", \"$color[hex, swatch]:fill_color\"),\n",
      "])\n",
      "show(p)"
     ],
     "language": "python",
     "metadata": {},
     "outputs": []
    },
    {
     "cell_type": "markdown",
     "metadata": {},
     "source": [
      "## Linking two plots\n",
      "\n",
      "One of the best aspects of Bokeh is linked brushing. "
     ]
    },
    {
     "cell_type": "code",
     "collapsed": false,
     "input": [
      "\n",
      "N = 300\n",
      "x = np.linspace(0, 4*np.pi, N)\n",
      "y1 = np.sin(x)\n",
      "y2 = np.cos(x)\n",
      "\n",
      "source = ColumnDataSource()\n",
      "source.add(data=x, name='x')\n",
      "source.add(data=y1, name='y1')\n",
      "source.add(data=y2, name='y2')\n",
      "\n",
      "TOOLS = \"pan,wheel_zoom,box_zoom,reset,save,box_select,lasso_select\"\n",
      "\n",
      "s1 = figure(tools=TOOLS, plot_width=350, plot_height=350)\n",
      "s1.scatter('x', 'y1', source=source)\n",
      "\n",
      "# Linked brushing in Bokeh is expressed by sharing data sources between\n",
      "# renderers. Note below that s2.scatter is called with the `source`\n",
      "# keyword argument, and supplied with the same data source from s1.scatter\n",
      "s2 = figure(tools=TOOLS, plot_width=350, plot_height=350)\n",
      "s2.scatter('x', 'y2', source=source)\n",
      "\n",
      "p = gridplot([[s1,s2]])\n",
      "show(p)"
     ],
     "language": "python",
     "metadata": {},
     "outputs": []
    },
    {
     "cell_type": "markdown",
     "metadata": {},
     "source": [
      "## Basic interactivity\n",
      "\n",
      "Bokeh lets you use a Python update function to update your plots.\n",
      "\n",
      "In IPython notebook we can use the interactive widgets provided by the notebook. We'll see how to make a interactive page outsite the notebook in a minute."
     ]
    },
    {
     "cell_type": "code",
     "collapsed": false,
     "input": [
      "x = np.linspace(0, 2*np.pi, 2000)\n",
      "y = np.sin(x)\n",
      "\n",
      "source = ColumnDataSource(data=dict(x=x, y=y))\n",
      "\n",
      "p = figure(title=\"simple line example\", plot_height=300, plot_width=600)\n",
      "p.line(x, y, color=\"#2222aa\", line_width=3, source=source, name=\"foo\")"
     ],
     "language": "python",
     "metadata": {},
     "outputs": []
    },
    {
     "cell_type": "code",
     "collapsed": false,
     "input": [
      "def update(f, w=1, A=1, phi=0):\n",
      "    if   f == \"sin\": func = np.sin\n",
      "    elif f == \"cos\": func = np.cos\n",
      "    elif f == \"tan\": func = np.tan\n",
      "    source.data['y'] = A * func(w * x + phi)\n",
      "    source.push_notebook()"
     ],
     "language": "python",
     "metadata": {},
     "outputs": []
    },
    {
     "cell_type": "code",
     "collapsed": false,
     "input": [
      "from IPython.html.widgets import interact\n",
      "interact(update, f=[\"sin\", \"cos\", \"tan\"], w=(0,100), A=(1,10), phi=(0, 10, 0.1))\n"
     ],
     "language": "python",
     "metadata": {},
     "outputs": []
    },
    {
     "cell_type": "code",
     "collapsed": false,
     "input": [
      "show(p)"
     ],
     "language": "python",
     "metadata": {},
     "outputs": []
    },
    {
     "cell_type": "code",
     "collapsed": false,
     "input": [],
     "language": "python",
     "metadata": {},
     "outputs": []
    }
   ],
   "metadata": {}
  }
 ]
}